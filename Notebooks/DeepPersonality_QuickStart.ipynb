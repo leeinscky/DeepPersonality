{
  "cells": [
    {
      "cell_type": "markdown",
      "metadata": {
        "id": "hNTAbqrWNfqf"
      },
      "source": [
        "# Installation"
      ]
    },
    {
      "cell_type": "code",
      "execution_count": 11,
      "metadata": {
        "colab": {
          "base_uri": "https://localhost:8080/"
        },
        "id": "ktRVAf8PGphS",
        "outputId": "5a439335-1fc2-4414-e20d-c3dea129a241"
      },
      "outputs": [
        {
          "name": "stderr",
          "output_type": "stream",
          "text": [
            "364.82s - pydevd: Sending message related to process being replaced timed-out after 5 seconds\n"
          ]
        },
        {
          "name": "stdout",
          "output_type": "stream",
          "text": [
            "Cloning into 'DeepPersonality'...\n",
            "remote: Enumerating objects: 3296, done.\u001b[K\n",
            "remote: Counting objects: 100% (113/113), done.\u001b[K\n",
            "remote: Compressing objects: 100% (77/77), done.\u001b[K\n",
            "remote: Total 3296 (delta 61), reused 73 (delta 33), pack-reused 3183\u001b[K\n",
            "Receiving objects: 100% (3296/3296), 3.07 MiB | 2.88 MiB/s, done.\n",
            "Resolving deltas: 100% (2311/2311), done.\n"
          ]
        }
      ],
      "source": [
        "!git clone https://github.com/liaorongfan/DeepPersonality.git"
      ]
    },
    {
      "cell_type": "code",
      "execution_count": 14,
      "metadata": {
        "colab": {
          "base_uri": "https://localhost:8080/"
        },
        "id": "EyPYbb5TLJ7D",
        "outputId": "7f92f3ac-a5a4-4996-a34c-d168430ef9c3"
      },
      "outputs": [
        {
          "ename": "FileNotFoundError",
          "evalue": "[Errno 2] No such file or directory: '/content/DeepPersonality'",
          "output_type": "error",
          "traceback": [
            "\u001b[0;31m---------------------------------------------------------------------------\u001b[0m",
            "\u001b[0;31mFileNotFoundError\u001b[0m                         Traceback (most recent call last)",
            "Cell \u001b[0;32mIn [14], line 2\u001b[0m\n\u001b[1;32m      1\u001b[0m \u001b[39mimport\u001b[39;00m \u001b[39mos\u001b[39;00m\n\u001b[0;32m----> 2\u001b[0m os\u001b[39m.\u001b[39;49mchdir(\u001b[39m\"\u001b[39;49m\u001b[39m/content/DeepPersonality\u001b[39;49m\u001b[39m\"\u001b[39;49m)\n\u001b[1;32m      3\u001b[0m os\u001b[39m.\u001b[39mgetcwd()\n",
            "\u001b[0;31mFileNotFoundError\u001b[0m: [Errno 2] No such file or directory: '/content/DeepPersonality'"
          ]
        }
      ],
      "source": [
        "import os\n",
        "os.chdir(\"/content/DeepPersonality\")\n",
        "os.getcwd()"
      ]
    },
    {
      "cell_type": "code",
      "execution_count": null,
      "metadata": {
        "id": "O9gak0kSodDY"
      },
      "outputs": [],
      "source": [
        "!pip install -r requirements.txt"
      ]
    },
    {
      "cell_type": "markdown",
      "metadata": {
        "id": "_Ik_hgjlNt2P"
      },
      "source": [
        "# Quick Start"
      ]
    },
    {
      "cell_type": "markdown",
      "metadata": {
        "id": "4rNW1Xj87dg5"
      },
      "source": [
        "## Download processed demo dataset\n",
        "If you just want to have a try on running demo experiment, you can download the pre-processed tiny Chalearn 2016 dataset and unzip it in the `datasets` directory"
      ]
    },
    {
      "cell_type": "code",
      "execution_count": null,
      "metadata": {
        "colab": {
          "base_uri": "https://localhost:8080/"
        },
        "id": "WNOrRtUUJ6xY",
        "outputId": "fb9d415a-ee00-4147-affa-a4f30fdeca8c"
      },
      "outputs": [
        {
          "ename": "",
          "evalue": "",
          "output_type": "error",
          "traceback": [
            "\u001b[1;31mRunning cells with 'Python 3.8.15 ('DeepPersonality')' requires ipykernel package.\n",
            "\u001b[1;31mRun the following command to install 'ipykernel' into the Python environment. \n",
            "\u001b[1;31mCommand: 'conda install -n DeepPersonality ipykernel --update-deps --force-reinstall'"
          ]
        }
      ],
      "source": [
        "!gdown --id 1eANtFzA75Mqv01nW45exfauAIMLNO70J --output ChaLearn2016_tiny_processed.zip\n"
      ]
    },
    {
      "cell_type": "code",
      "execution_count": 8,
      "metadata": {
        "id": "gvemaN1jKTAZ"
      },
      "outputs": [
        {
          "name": "stderr",
          "output_type": "stream",
          "text": [
            "208.97s - pydevd: Sending message related to process being replaced timed-out after 5 seconds\n"
          ]
        },
        {
          "name": "stdout",
          "output_type": "stream",
          "text": [
            "unzip:  cannot find or open ChaLearn2016_tiny_processed.zip, ChaLearn2016_tiny_processed.zip.zip or ChaLearn2016_tiny_processed.zip.ZIP.\n"
          ]
        }
      ],
      "source": [
        "!unzip ChaLearn2016_tiny_processed.zip -d datasets"
      ]
    },
    {
      "cell_type": "markdown",
      "metadata": {
        "id": "5iQmOL4k7O8Y"
      },
      "source": [
        "## Run demo expriment"
      ]
    },
    {
      "cell_type": "code",
      "execution_count": null,
      "metadata": {
        "colab": {
          "base_uri": "https://localhost:8080/"
        },
        "id": "HjrX3dLsoISm",
        "outputId": "dd19b60c-e588-4cc5-fbe4-f7ba46c09e76"
      },
      "outputs": [
        {
          "ename": "",
          "evalue": "",
          "output_type": "error",
          "traceback": [
            "\u001b[1;31mRunning cells with 'Python 3.8.15 ('DeepPersonality')' requires ipykernel package.\n",
            "\u001b[1;31mRun the following command to install 'ipykernel' into the Python environment. \n",
            "\u001b[1;31mCommand: 'conda install -n DeepPersonality ipykernel --update-deps --force-reinstall'"
          ]
        }
      ],
      "source": [
        "!python script/run_exp.py -c /content/DeepPersonality/config/demo/bimodal_resnet18.yaml"
      ]
    }
  ],
  "metadata": {
    "accelerator": "GPU",
    "colab": {
      "provenance": []
    },
    "gpuClass": "standard",
    "kernelspec": {
      "display_name": "Python 3.8.15 ('DeepPersonality')",
      "language": "python",
      "name": "python3"
    },
    "language_info": {
      "codemirror_mode": {
        "name": "ipython",
        "version": 3
      },
      "file_extension": ".py",
      "mimetype": "text/x-python",
      "name": "python",
      "nbconvert_exporter": "python",
      "pygments_lexer": "ipython3",
      "version": "3.8.15"
    },
    "vscode": {
      "interpreter": {
        "hash": "e90ff864b73395114d2bbaf73d0c12f6cd142ed0820d5e350150898e0dfce0a9"
      }
    }
  },
  "nbformat": 4,
  "nbformat_minor": 0
}
